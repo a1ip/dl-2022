{
  "nbformat": 4,
  "nbformat_minor": 0,
  "metadata": {
    "colab": {
      "name": "[homework]numpy.ipynb",
      "provenance": [],
      "collapsed_sections": [],
      "include_colab_link": true
    },
    "kernelspec": {
      "display_name": "Python 3",
      "language": "python",
      "name": "python3"
    },
    "language_info": {
      "codemirror_mode": {
        "name": "ipython",
        "version": 3
      },
      "file_extension": ".py",
      "mimetype": "text/x-python",
      "name": "python",
      "nbconvert_exporter": "python",
      "pygments_lexer": "ipython3",
      "version": "3.7.3"
    }
  },
  "cells": [
    {
      "cell_type": "markdown",
      "metadata": {
        "id": "view-in-github",
        "colab_type": "text"
      },
      "source": [
        "<a href=\"https://colab.research.google.com/github/a1ip/dl-2022/blob/main/%5Bhomework%5Dnumpy.ipynb\" target=\"_parent\"><img src=\"https://colab.research.google.com/assets/colab-badge.svg\" alt=\"Open In Colab\"/></a>"
      ]
    },
    {
      "cell_type": "markdown",
      "metadata": {
        "id": "KxIquH6GK7kt"
      },
      "source": [
        "<p style=\"align: center;\"><img align=center src=\"https://raw.githubusercontent.com/DLSchool/deep-learning-school/fall_2021_part1/_static/logo_readme.png\" style=\"height:450px;\"/></p>\n",
        "\n",
        "\n",
        "<h3 style=\"text-align: center;\"><b>Школа глубокого обучения ФПМИ МФТИ, осень 2021</b></h3>\n",
        "\n",
        "## Домашнее задание: библиотека Numpy и линейная алгебра\n"
      ]
    },
    {
      "cell_type": "code",
      "metadata": {
        "id": "YEJ8DQ4QK7kx"
      },
      "source": [
        "import numpy as np\n",
        "import random\n",
        "import scipy.stats as sps"
      ],
      "execution_count": null,
      "outputs": []
    },
    {
      "cell_type": "markdown",
      "metadata": {
        "id": "hYXhVX0eK7k2"
      },
      "source": [
        "### Задание 1\n",
        "В первой задаче вам предлагается перемножить две квадратные матрицы двумя способами -- без использования пакета ***numpy*** и с ним."
      ]
    },
    {
      "cell_type": "code",
      "metadata": {
        "id": "zJR8EANzK7k3"
      },
      "source": [
        "# Для генерации матриц используем фукнцию random -- она используется для генерации случайных объектов \n",
        "# функция sample создает случайную выборку. В качестве аргумента ей передается кортеж (i,j),  \n",
        "# здесь i -- число строк, j -- число столбцов.\n",
        "a = np.random.sample((100, 100))\n",
        "b = np.random.sample((100, 100))\n",
        "\n",
        "# Выведите размерность (ранг) каждой матрицы с помощью функции ndim.\n",
        "# Используйте функцию shape, что она вывела?\n",
        "\n",
        "# ========\n",
        "# Ваш код здесь\n",
        "# ========\n",
        "print(a)\n",
        "print(b)\n",
        "print(a.ndim)\n",
        "print(b.ndim)\n",
        "print(a.shape)\n",
        "print(b.shape)"
      ],
      "execution_count": null,
      "outputs": []
    },
    {
      "cell_type": "code",
      "metadata": {
        "id": "bkWCI4TPK7k8"
      },
      "source": [
        "def mult(a, b):\n",
        "    \"\"\"  \n",
        "    a: list of \"size\" lists, each contains \"size\" floats --- первая матрица-аргумент\n",
        "    b: list of \"size\" lists, each contains \"size\" floats --- вторая матрица-аргумент\n",
        "    return c: list of \"size\" lists, each contains \"size\" floats --- матрица, являющаяся результатом умножения матриц a и b\n",
        "    \n",
        "    Функция принимает на вход две матрицы: a и b размерностью size x size\n",
        "    Возвращает матрицу их произведения a * b = c \n",
        "\n",
        "    Реализуйте умножение матриц без использования функций из пакета numpy\n",
        "    \"\"\"\n",
        "    zip_b = list(zip(*b))\n",
        "    return [[sum(ele_a*ele_b for ele_a, ele_b in zip(row_a, col_b)) for col_b in zip_b] for row_a in a]"
      ],
      "execution_count": null,
      "outputs": []
    },
    {
      "cell_type": "code",
      "metadata": {
        "id": "IIgYD1W5K7lB"
      },
      "source": [
        "def np_mult(a, b):\n",
        "    \"\"\"  \n",
        "    a: np.array[size, size]             --- первая матрица-аргумент\n",
        "    b: np.array[size, size] --- вторая матрица-аргумент\n",
        "    return c: np.array[size, size]       --- матрица, являющаяся результатом умножения матриц a и b\n",
        "    \n",
        "    Функция принимает на вход две матрицы: a и b размерностью size x size\n",
        "    Возвращает матрицу их произведения a * b = c \n",
        "\n",
        "    Реализуйте умножение матриц, используя функции из пакета numpy\n",
        "    \"\"\"\n",
        "    return a.dot(b)"
      ],
      "execution_count": null,
      "outputs": []
    },
    {
      "cell_type": "code",
      "metadata": {
        "id": "tktkYzUHK7lE"
      },
      "source": [
        "%%time\n",
        "# засечем время работы функции без NumPy\n",
        "M1 = mult(a, b)"
      ],
      "execution_count": null,
      "outputs": []
    },
    {
      "cell_type": "code",
      "metadata": {
        "id": "TmD0adgHK7lK"
      },
      "source": [
        "%%time\n",
        "# засечем время работы функции с NumPy\n",
        "M2 = np_mult(a, b)"
      ],
      "execution_count": null,
      "outputs": []
    },
    {
      "cell_type": "code",
      "metadata": {
        "id": "oftqyANQK7lS"
      },
      "source": [
        "# проверим корректность\n",
        "assert np.allclose(np.array(M1), M2)"
      ],
      "execution_count": null,
      "outputs": []
    },
    {
      "cell_type": "markdown",
      "metadata": {
        "id": "2itTyTlcaHAu"
      },
      "source": [
        "### Задание 2"
      ]
    },
    {
      "cell_type": "markdown",
      "metadata": {
        "id": "BCemQSq-aEbO"
      },
      "source": [
        "Вам подаются на вход два вектора `a` и `b` в трехмерном пространстве. Заполните их случайными числами. Реализуйте их скалярное произведение с помощью  `NumPy` и без. Засеките время работы, как это показано в заданиях выше."
      ]
    },
    {
      "cell_type": "code",
      "metadata": {
        "id": "lWhr_gPSZ9o_"
      },
      "source": [
        "a = np.random.sample((1, 3))\n",
        "a = list(a)[0]\n",
        "b = np.random.sample((1, 3))\n",
        "b = list(b)[0]\n",
        "print(a, b)"
      ],
      "execution_count": null,
      "outputs": []
    },
    {
      "cell_type": "code",
      "metadata": {
        "id": "GjlkcHIWZ_ae"
      },
      "source": [
        "def scalar_product(a, b):\n",
        "    \"\"\"  \n",
        "    a: np.array[, n] --- первая матрица-аргумент длиной n\n",
        "    b: np.array[, n] --- вторая матрица-аргумент длиной n\n",
        "    return c: float  --- результат скалярного произведения векторов a и b\n",
        "\n",
        "    Функция принимает на вход два вектора длиной n\n",
        "    Возвращает число, равное их скалярному произведению a x b = c \n",
        "\n",
        "    Реализуйте скалярное умножение векторов, не используя функции из пакета numpy\n",
        "\n",
        "    \"\"\" \n",
        "    return sum(x*y for x, y in zip(a, b))"
      ],
      "execution_count": null,
      "outputs": []
    },
    {
      "cell_type": "code",
      "metadata": {
        "id": "C2M-OAp5Z_6a"
      },
      "source": [
        "def np_scalar_product(a,b):\n",
        "    \"\"\"  \n",
        "    a: np.array[, n] --- первая матрица-аргумент\n",
        "    b: np.array[, n] --- вторая матрица-аргумент\n",
        "    return c: float  --- результат скалярного произведения векторов a и b\n",
        "\n",
        "    Функция принимает на вход два вектора длиной n\n",
        "    Возвращает число, равное их скалярному произведению a x b = c \n",
        "\n",
        "    Реализуйте скалярное умножение векторов, используя функции из пакета numpy\n",
        "    \"\"\" \n",
        "    return a.dot(b)"
      ],
      "execution_count": null,
      "outputs": []
    },
    {
      "cell_type": "code",
      "metadata": {
        "id": "BOQfYf-2aCQJ",
        "scrolled": true
      },
      "source": [
        "%time product_1 = scalar_product(a,b)\n",
        "%time product_2 = np_scalar_product(a,b)\n",
        "\n",
        "# проверим корректность:\n",
        "assert np.allclose(product_1, product_2)"
      ],
      "execution_count": null,
      "outputs": []
    },
    {
      "cell_type": "markdown",
      "metadata": {
        "id": "NHaHu6q1K7mH"
      },
      "source": [
        "Почему методы ***numpy*** оказываются эффективнее? Что вы можете сказать о скорости вычислений в NumPy?"
      ]
    },
    {
      "cell_type": "markdown",
      "metadata": {
        "id": "PqsTAb1M7TTQ"
      },
      "source": [
        "------------------"
      ]
    },
    {
      "cell_type": "markdown",
      "metadata": {
        "id": "_A3p2s4eK7mI"
      },
      "source": [
        "**Ответ:** Скорость вычислений вектоных и матричных операций в NumPy сильно превосходит скорость вычислений без него, по большей части потому, что функции numpy работаю с массивами данных одного типа (числовыми), это позволяет реализовать встроенные функции numpy на C/C++, что, конечно, делает numpy быстрее (функции, которые вызывает Numpy для работы с числовыми данными, сильно оптимизированы именно под эти задачи, а сам Python просто гоняет интерпретатор по циклу в таких операциях, что является чуть ли не самым большим замедлением в работе интерпретатора)."
      ]
    },
    {
      "cell_type": "markdown",
      "metadata": {
        "id": "mJXeUuznK7lm"
      },
      "source": [
        "### Задание 3\n",
        "Напишите функцию, которая находим сумму четных диагональныех элементов квадратной матрицы. Если таких элементов нет, то вывести `0`. Используйте библиотеку Numpy"
      ]
    },
    {
      "cell_type": "code",
      "metadata": {
        "id": "qYNiKbK47TTS"
      },
      "source": [
        "def np_diag_2k(a):\n",
        "    \"\"\"  \n",
        "    a: np.array[m, m] --- первая матрица-аргумент\n",
        "    return c: float   --- сумма элементов массива а, принадлежащих диагонали и являющимися четными\n",
        "\n",
        "    Функция принимает на вход квадратную матрицу размерностью m x m и возвращает число,\n",
        "    равное сумме четных диагональных элементов этой квадратной матрицы\n",
        "\n",
        "    В реализации этой функции необходимо использовать функционал пакета numpy\n",
        "\n",
        "    \"\"\"\n",
        "    d = np.array(np.diagonal(a, offset=0, axis1=0, axis2=1)) \n",
        "    return np.sum(d[d%2 == 0])"
      ],
      "execution_count": null,
      "outputs": []
    },
    {
      "cell_type": "code",
      "metadata": {
        "id": "BdInn8_j7TTU"
      },
      "source": [
        "# зададим некоторую квадратную матрицу\n",
        "a = np.random.randint(1, 10, size=(5, 5))\n",
        "a"
      ],
      "execution_count": null,
      "outputs": []
    },
    {
      "cell_type": "code",
      "metadata": {
        "id": "ZR97Nt9N7TTW"
      },
      "source": [
        "%%time\n",
        "# засечем время работы функции с NumPy\n",
        "np_diag_2k(a)"
      ],
      "execution_count": null,
      "outputs": []
    },
    {
      "cell_type": "markdown",
      "metadata": {
        "id": "cdcRkFzQ7TTY"
      },
      "source": [
        "### Задание 4\n",
        "​\n",
        "На вход дан двумерный массив $X$. Напишите функцию, которая для каждой строчки $(x = (x_1, x_2, \\ldots, x_n)$ массива $X$ строит строчку $s = (s_1, s_2, \\ldots, s_n)$,  где $s_k=x_1+...+x_k$, а затем выдаёт массив из построенных строчек. Используйте библиотеку <code>numpy</code> (вам поможет функция <code>cumsum</code>). Выходом функции должен быть двумерный <code>numpy</code>-массив той же формы, что и $X$.\n",
        "​ "
      ]
    },
    {
      "cell_type": "code",
      "metadata": {
        "id": "REgL39ksK7lr"
      },
      "source": [
        "def cumsum(A):\n",
        "    \"\"\"  \n",
        "    A: np.array[num_row, num_column]        --- матрица-аргумент\n",
        "    return S: np.array[num_row, num_column] --- выходная матрица кумулятивных сумм\n",
        "\n",
        "    Функция принимает на вход матрицу A размерностью n x m и возвращает \n",
        "    матрицу с той же размерностью n x m, i-ая строчка которой есть последовательность \n",
        "    кумулятивных сумм элементов i-ой строки матрицы A\n",
        "\n",
        "    В реализации этой функции необходимо использовать функционал пакета numpy\n",
        "\n",
        "    \"\"\" \n",
        "    return np.cumsum(A) # np.cumsum(A, axis=1)"
      ],
      "execution_count": null,
      "outputs": []
    },
    {
      "cell_type": "code",
      "metadata": {
        "id": "HcVN8MagK7lw"
      },
      "source": [
        "# зададим некоторую последовательность и проверим ее на вашей функции. \n",
        "A = sps.uniform.rvs(size=10**3) \n",
        "\n",
        "%time S2 = cumsum(A)"
      ],
      "execution_count": null,
      "outputs": []
    },
    {
      "cell_type": "markdown",
      "metadata": {
        "id": "teVCPWZmK7l5"
      },
      "source": [
        "### Задание 5\n",
        "\n",
        "​\n",
        "Задан двумерный массив $X$. Для каждой строчки массива X необходимо сделать следующее преобразование.\n",
        "\n",
        "Пусть дана строчка x. Необходимо построить новый массив, где все элементы с нечетными индексами требуется заменить на число a (значение по умолчанию a=1). Все элементы с четными индексами нужно возвести в куб. Затем записать элементы в обратном порядке относительно их позиций. В конце требуется слить массив x с преобразованным x и вывести.\n",
        "\n",
        "Напишите функцию, которая выполняет данное преобразование для каждой строчки двумерного массива X. Массив X при этом должен остаться без изменений.\n",
        "\n",
        "Используйте библиотеку numpy.\n",
        "\n",
        "Пример:\n",
        "$X = [[100,200,300,400,500]]$ -> $[[100,a,300,a,500]]$ -> $[[500^3,a,300^3,a,100^3]]$ -> склеиваем -> $[[100,200,300,400,500,500^3,a,300^3,a,100^3]]$\n",
        "\n",
        "​"
      ]
    },
    {
      "cell_type": "code",
      "metadata": {
        "id": "0hmcvfDVK7l-"
      },
      "source": [
        "from copy import copy\n",
        "def np_transformation(X, a=1):\n",
        "    \"\"\"  \n",
        "    X: np.array[num_row, num_column]          --- матрица-аргумент\n",
        "    a: float                                  --- значение для преобразования нечетных элементов строк в X\n",
        "    return S: np.array[num_row, num_column*2] --- матрица, где строки являются \n",
        "    сконкатенированными строками изначальной матрицы X со строками, являющимися их преобразованиями\n",
        "\n",
        "    Функция принимает на вход матрицу X размерностью n x m, число a и \n",
        "    возвращает  матрицу с размерностью n x m*2, i-ая строчка которой является склеенной\n",
        "    i-ой строкой X с ее преобразованием ее строки transformation(X[i]), записанном в обратном порядке, \n",
        "    где преобразование для числа k определено как:\n",
        "    transformation(k) = a if ind(k) % 2 == 0 else k**3\n",
        "\n",
        "    В реализации этой функции необходимо использовать функционал пакета numpy\n",
        "\n",
        "    \"\"\" \n",
        "    num_row, num_column = np.shape(X)\n",
        "    result = np.empty((num_row, num_column*2), int)\n",
        "\n",
        "    for i in range(num_row):\n",
        "        for j in range(num_column):\n",
        "            result[i][j] = X[i][j]\n",
        "            result[i][2*num_column - 1 - j] = a if j%2 == 1 else X[i][j]**3\n",
        "    \n",
        "    return \n",
        "    # Y = np.copy(X) \n",
        "    # Y[:, 1::2] = a\n",
        "    # Y[:,0::2] **= 3   \n",
        "    # Y[:,:] = Y[:,::-1] \n",
        "    # return np.concatenate((X, Y), axis=1)"
      ],
      "execution_count": null,
      "outputs": []
    },
    {
      "cell_type": "code",
      "metadata": {
        "id": "r2-JLMhxK7mE",
        "scrolled": true
      },
      "source": [
        "X = np.array([[i for i in range(1, 10, 2)]])\n",
        "%time S2 = np_transformation(X, 5)"
      ],
      "execution_count": null,
      "outputs": []
    },
    {
      "cell_type": "markdown",
      "metadata": {
        "id": "qa521fce7TTk"
      },
      "source": [
        "### Задание 6\n",
        "Написать функцию для кодирование массива (Run-length encoding). Все подряд идущие повторения элементов функция сжимает в один элемент и считает количество повторений этого элемента. Функция возвращает кортеж из двух векторов одинаковой длины. Первый содержит элементы, а второй — сколько раз их нужно повторить. \n",
        "\n",
        "Пример: encode(np.array([1, 2, 2, 3, 3, 1, 1, 5, 5, 2, 3, 3])) = (np.array[1, 2, 3, 1, 5, 2, 3]), np.array[1, 2, 2, 2, 2, 1, 2])"
      ]
    },
    {
      "cell_type": "code",
      "metadata": {
        "id": "4wD7OSVv7TTl"
      },
      "source": [
        "def np_encode(a):\n",
        "    \"\"\"  \n",
        "    a: np.array[, n] --- вектор-аргумент длиной n\n",
        "    return (elems, repetitions): (np.array, np.array) --- выходной кортеж из вектора \n",
        "    элементов и вектора их количеств в подряд идущих повторениях\n",
        "\n",
        "    Функция принимает на вход вектор a длиной n, добавляет в вектор elem сжатые \n",
        "    в один элемент подряд идущие повторения элементов входного вектора a, в вектор \n",
        "    repetitions добавляет длины последовательностей подряд идущих повторений. \n",
        "    Затем функция возвращает кортеж векторов (elems, repetitions).\n",
        "\n",
        "    В реализации этой функции необходимо использовать функционал пакета numpy\n",
        "\n",
        "    \"\"\" \n",
        "    elems = np.copy(a)\n",
        "    repetitions = np.array([1])\n",
        "\n",
        "    i, j, l = 1, 0, len(elems)\n",
        "\n",
        "    while i < l:\n",
        "        if elems[i] == elems[i-1]:\n",
        "            elems = np.delete(elems, i)\n",
        "            repetitions[j] += 1\n",
        "\n",
        "        else:\n",
        "            repetitions = np.append(repetitions, 1)\n",
        "            j += 1\n",
        "            i += 1\n",
        "\n",
        "        l = len(elems)\n",
        "    \n",
        "    return elems, repetitions"
      ],
      "execution_count": null,
      "outputs": []
    },
    {
      "cell_type": "code",
      "metadata": {
        "id": "P7YxojET7TTn"
      },
      "source": [
        "X = np.array([1, 2, 2, 3, 3, 1, 1, 5, 5, 2, 3, 3])\n",
        "\n",
        "%time x, num = np_encode(X)"
      ],
      "execution_count": null,
      "outputs": []
    }
  ]
}