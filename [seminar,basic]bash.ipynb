{
  "nbformat": 4,
  "nbformat_minor": 0,
  "metadata": {
    "colab": {
      "name": "[seminar,basic]bash.ipynb",
      "provenance": [],
      "collapsed_sections": [
        "hDuUsb-hSmsJ",
        "9DRyKxZJUdNx"
      ],
      "include_colab_link": true
    },
    "kernelspec": {
      "name": "python3",
      "display_name": "Python 3"
    }
  },
  "cells": [
    {
      "cell_type": "markdown",
      "metadata": {
        "id": "view-in-github",
        "colab_type": "text"
      },
      "source": [
        "<a href=\"https://colab.research.google.com/github/a1ip/dl-2022/blob/main/%5Bseminar%2Cbasic%5Dbash.ipynb\" target=\"_parent\"><img src=\"https://colab.research.google.com/assets/colab-badge.svg\" alt=\"Open In Colab\"/></a>"
      ]
    },
    {
      "cell_type": "code",
      "metadata": {
        "id": "R-ljAeWuqNN4",
        "outputId": "413fbb15-d4c2-451b-de45-ea588f63099d",
        "colab": {
          "base_uri": "https://localhost:8080/",
          "height": 136
        }
      },
      "source": [
        "!apt-get moo"
      ],
      "execution_count": null,
      "outputs": [
        {
          "output_type": "stream",
          "text": [
            "                 (__) \n",
            "                 (oo) \n",
            "           /------\\/ \n",
            "          / |    ||   \n",
            "         *  /\\---/\\ \n",
            "            ~~   ~~   \n",
            "...\"Have you mooed today?\"...\n"
          ],
          "name": "stdout"
        }
      ]
    },
    {
      "cell_type": "markdown",
      "metadata": {
        "id": "SR5360mDq7IG"
      },
      "source": [
        "В этом ноутбуке мы рассмотрим базовые команды командной строки в Linux\n",
        "\n",
        "План\n",
        "  - Команды UNIX\n",
        "  - Файловая система\n",
        "  - Аргументы к командам\n",
        "  - Переменные окружения\n"
      ]
    },
    {
      "cell_type": "markdown",
      "metadata": {
        "id": "exbUbtJhzNW0"
      },
      "source": [
        "# Команды в UNIX"
      ]
    },
    {
      "cell_type": "markdown",
      "metadata": {
        "id": "cyxieSjTuGpw"
      },
      "source": [
        "Линукс принадлежит большому семейству операционных систем под названием UNIX, коорые происходят от ОС AT&T Unix, разроботанной еще в 1970х. Mac OS, кстати тоже ее потомок.\n",
        "\n",
        "В операционных системах UNIX-типа для взаимодействия с ОС используют специальные команды. До появления окошек и кнопочек люди создавали файлы и запускали команды исключительно с помощью этих команд. \n",
        "\n",
        "Сейчас этот способ тоже исользуют, тк есть ряд преимуществ:\n",
        " - Намного более удобное подключение к компьютеру по сети\n",
        " - Иногда удобнее запустить одну команду, чем бродить по менюшкам в поисках нужной опции.\n",
        " - Ломанды можно составлять в скрипты и автоматизировать задачи\n",
        " \n",
        "\n"
      ]
    },
    {
      "cell_type": "markdown",
      "metadata": {
        "id": "4Kgd_-Jdq-HJ"
      },
      "source": [
        "Небольшой ликбез по понятиям:\n",
        "\n",
        "- **Командная строка** - вид интерфейса, когда вы набираете текстовые команды\n",
        "- **Терминал** - Программа, которая отображает строку. Например: *gnome-terminal*, *xterm*, *tilda*\n",
        "- **Оболочка (shell)** - Программа которая выполняет команды. Например: *bash*, *zsh*, *ssh*\n",
        "- **Консоль** - Железо, например клавиатура и монитор."
      ]
    },
    {
      "cell_type": "markdown",
      "metadata": {
        "id": "zsNEkoiC4I3d"
      },
      "source": [
        "Запускать команды можно как из терминала, так и из юпитера или колаба, поставив перед командой !"
      ]
    },
    {
      "cell_type": "code",
      "metadata": {
        "id": "wujSZ66i4UVm"
      },
      "source": [
        "!echo \"Hello World\""
      ],
      "execution_count": null,
      "outputs": []
    },
    {
      "cell_type": "markdown",
      "metadata": {
        "id": "z8n1PxRZ0j7P"
      },
      "source": [
        "# Файловая система"
      ]
    },
    {
      "cell_type": "markdown",
      "metadata": {
        "id": "WwN4S7rv08JV"
      },
      "source": [
        "В Unix системах все файлы образуют структуру похожую на дерево, в каждой директории(папке) хранятся файлы и другие директории. Самая первая директория которая содержит все остальные, называется корневой (*root*)\n",
        "\n",
        "\n",
        "У каждой директории есть путь (по сути, просто строка) который показывает где она находится в этом дереве. \"/\" - это путь корневой директории. \n",
        "\n",
        "---\n",
        "\n",
        "\n",
        "\n",
        "![alt text](http://linuxcommand.org/images/file_manager.jpg)\n",
        "\n",
        "В командной строке все команды выполняются в какой-либо директории.\n",
        "\n",
        "Представьте, что дерево файловой системы - это лабиринт, и каждая директория - это комната с файлами и дверьми в другие директории. В каждый момент времени вы находитесь в одной комнате.\n",
        "\n",
        "Посмотрм, как нам ходить по нашему лабиринту."
      ]
    },
    {
      "cell_type": "code",
      "metadata": {
        "id": "j2I1ZXrKq0tp"
      },
      "source": [
        "# Выведем путь текущей директории\n",
        "!pwd"
      ],
      "execution_count": null,
      "outputs": []
    },
    {
      "cell_type": "code",
      "metadata": {
        "id": "9sQwAxoT5-kO"
      },
      "source": [
        "# Посмотрим что в нашей директории есть\n",
        "!ls \n",
        "#ls is for \"list\""
      ],
      "execution_count": null,
      "outputs": []
    },
    {
      "cell_type": "markdown",
      "metadata": {
        "id": "6nxK6kkD7b_f"
      },
      "source": [
        "Некоторые директории хранят файлы необходимые для работы программ. В них нужно что-либо менять только если значешь, что делаешь. \n",
        "\n",
        "Это так называемые скрытые директории (hidden или dot directories/files)."
      ]
    },
    {
      "cell_type": "code",
      "metadata": {
        "id": "OVS6HKB26mG2"
      },
      "source": [
        "#"
      ],
      "execution_count": null,
      "outputs": []
    },
    {
      "cell_type": "code",
      "metadata": {
        "id": "nYL2dtfK6iWP"
      },
      "source": [
        "#Создадим пустой файлик\n",
        "! touch test-file\n",
        "# пробел в имени - плохая идея, создадутся два файла\n",
        "! touch hello world\n",
        "\n",
        "# посмотрим что получилось\n",
        "! ls"
      ],
      "execution_count": null,
      "outputs": []
    },
    {
      "cell_type": "code",
      "metadata": {
        "id": "AFTolllI-gJH"
      },
      "source": [
        "#Удаление файлов\n",
        "! rm world\n",
        "! ls"
      ],
      "execution_count": null,
      "outputs": []
    },
    {
      "cell_type": "code",
      "metadata": {
        "id": "dkLsVgkX_RNT"
      },
      "source": [
        "# Новая директория\n",
        "! mkdir please_come_here\n"
      ],
      "execution_count": null,
      "outputs": []
    },
    {
      "cell_type": "markdown",
      "metadata": {
        "id": "hgVO1IAOAseT"
      },
      "source": [
        "Некоторые директории хранят файлы необходимые для работы программ. В них нужно что-либо менять только если значешь, что делаешь.\n",
        "\n",
        "Это так называемые скрытые директории (hidden или dot directories/files).\n"
      ]
    },
    {
      "cell_type": "code",
      "metadata": {
        "id": "JTxijZDRq8bN"
      },
      "source": [
        "# Покажем больше информации и отобразим скрытые файлы\n",
        "!ls -al\n",
        "# Первое слово - команда, а второе - аргумент"
      ],
      "execution_count": null,
      "outputs": []
    },
    {
      "cell_type": "markdown",
      "metadata": {
        "id": "K8Tei_Rz8ELQ"
      },
      "source": [
        "\n",
        "\n",
        "```\n",
        ".  - это путь к той директории в которой мы уже находимся\n",
        ".. - это путь к родительской директории\n",
        ".config - это скрытая папка\n",
        "```\n",
        "\n",
        "Каждая строчка - это одна из \"дверей\" в другую директорию либо файл.\n",
        "*Относительный* путь это не полный \"адрес\" директории а то, куда нам нужно пойти из места в котором мы сейчас находимся. \n",
        "\n",
        "\n",
        "```\n",
        " drwxr-xr-x 1 root root 4096 Feb 15 17:21 please_come_here\n",
        " |                           дата создания    |\n",
        " |                                         _относительный_ путь\n",
        " |\n",
        "  \\ эта метка значит, что это путь к другой директории\n",
        "```\n",
        "\n"
      ]
    },
    {
      "cell_type": "code",
      "metadata": {
        "id": "ozI5vv-G_Ato"
      },
      "source": [
        "# переход в другую директорию команда cd\n",
        "! pwd\n",
        "! cd please_come_here\n",
        "! pwd"
      ],
      "execution_count": null,
      "outputs": []
    },
    {
      "cell_type": "markdown",
      "metadata": {
        "id": "j1YxW23TCoDo"
      },
      "source": [
        "Заработало?\n",
        "\n",
        "Не должно. Тут проблема в том что юпитер запускает каждый раз новую оболочку в своей директории (той, откуда его вызвали) , и после завершения команды она закрывается.\n",
        "\n",
        "Чтоб команды запускались в новой директории нужно поменять директорию самого юпитера.\n",
        "\n",
        "\n",
        "```\n",
        "%cd\n",
        "```\n",
        "\n"
      ]
    },
    {
      "cell_type": "code",
      "metadata": {
        "id": "KwJPa7wBA7QK"
      },
      "source": [
        "! pwd\n",
        "% cd please_come_here\n",
        "! pwd"
      ],
      "execution_count": null,
      "outputs": []
    },
    {
      "cell_type": "markdown",
      "metadata": {
        "id": "XkxqDBlcpvtR"
      },
      "source": [
        "Когда мы переходим в другую директорию, ее имя добавляется к нашему пути через \"/\"\n",
        "\n",
        "Например, были в `/home`, перешли в директорию `Pictures `оказались в `/home/Pictures`\n",
        "\n",
        "Абсолютный путь файла в этой директории будет /home/Picutes/image.png \n",
        "\n",
        "Если мы хотим взять файл из директории, которая является дочерней к той директории, где мы сейчас находимся, мы можем указать относительный путь файла.\n",
        "\n",
        "Например, из директории `/home` мы должны обращаться к нему по пути `Pictures/image.png`"
      ]
    },
    {
      "cell_type": "code",
      "metadata": {
        "id": "2HUAw_NLBKyb"
      },
      "source": [
        "# команды можно комбинировать в одну символом &\n",
        "! ls & ls -a & pwd\n",
        "%cd ..\n",
        "\n",
        "# Чтоб команды выполнялись одна за одной нужно использовать &&\n",
        "! pwd && cd please_come_here && pwd"
      ],
      "execution_count": null,
      "outputs": []
    },
    {
      "cell_type": "markdown",
      "metadata": {
        "id": "hDuUsb-hSmsJ"
      },
      "source": [
        "## Запись и чтение в файлы"
      ]
    },
    {
      "cell_type": "code",
      "metadata": {
        "id": "KzJChjwnRhm4"
      },
      "source": [
        "# Вывести текст в консоль\n",
        "\n",
        "!echo \"Sample text Пример текста\"\n",
        "# Echo - потому что команда выводит на выход то же, что и получает"
      ],
      "execution_count": null,
      "outputs": []
    },
    {
      "cell_type": "code",
      "metadata": {
        "id": "WKrcMKg9R-I5"
      },
      "source": [
        "# Вместо консоли отправить в файл\n",
        "\n",
        "! echo \"London is the capital of Great Britain\" >> English.txt\n"
      ],
      "execution_count": null,
      "outputs": []
    },
    {
      "cell_type": "code",
      "metadata": {
        "id": "4Ht2nwgeSXhi"
      },
      "source": [
        "# Прочитать файл и вывести в консоль\n",
        "\n",
        "! cat English.txt"
      ],
      "execution_count": null,
      "outputs": []
    },
    {
      "cell_type": "markdown",
      "metadata": {
        "id": "9DRyKxZJUdNx"
      },
      "source": [
        "## Скачивание из интернета"
      ]
    },
    {
      "cell_type": "code",
      "metadata": {
        "id": "EzS_vui3Ucer"
      },
      "source": [
        "# сохраняем старницу по адресу\n",
        "\n",
        "! curl example.com >> example-com.html\n",
        "! ls\n",
        "! cat example-com.html\n"
      ],
      "execution_count": null,
      "outputs": []
    },
    {
      "cell_type": "code",
      "metadata": {
        "id": "bONrzreaXVkD"
      },
      "source": [
        "! curl instagram.com"
      ],
      "execution_count": null,
      "outputs": []
    },
    {
      "cell_type": "markdown",
      "metadata": {
        "id": "hdEXswC6YBCJ"
      },
      "source": [
        "Иногда сервера пытаются перенаправить запрос на другой адрес. Curl не следует по таким перенаправлениям. Есть прогаммка wget которая может переходить по таким ссылкам и вообще проходить по всем ссылкам на странице и скачивать их."
      ]
    },
    {
      "cell_type": "code",
      "metadata": {
        "id": "BscMnGvUYeBT"
      },
      "source": [
        "! wget instagram.com -O insta.html"
      ],
      "execution_count": null,
      "outputs": []
    },
    {
      "cell_type": "markdown",
      "metadata": {
        "id": "vvDscEabYqhr"
      },
      "source": [
        "Обратите внимание на\n",
        "\n",
        "`HTTP request sent, awaiting response... 301 Moved Permanently`"
      ]
    },
    {
      "cell_type": "code",
      "metadata": {
        "id": "YLwadqvPYpW4"
      },
      "source": [
        ""
      ],
      "execution_count": null,
      "outputs": []
    },
    {
      "cell_type": "markdown",
      "metadata": {
        "id": "MXDgtgM3PjlU"
      },
      "source": [
        "# Аргументы и параметры к командам"
      ]
    },
    {
      "cell_type": "markdown",
      "metadata": {
        "id": "L5t2LkSzPwFa"
      },
      "source": [
        "Обычно аргументы – это то, над чем выполняется команда. Например, команда перехода в другую директорию должна получить в качестве аргумента путь директории, куда следует перейти. Команде вывода на экран содержимого файла надо передать имя файла.\n",
        "\n",
        "Параметры модифицируют, как бы видоизменяют работу программы. Например, с помощью команды просмотра содержимого каталога можно вывести простой список вложенных объектов. Используя же определенный параметр, можно получить подробные сведения о каждом файле и папке.\n",
        "\n",
        "Аргументы идут через пробел как отдельные слова\n",
        "\n",
        "Параметры идут после дефиса: ` -f` (однобуквенные) либо после двух дефисов: `--file`  "
      ]
    },
    {
      "cell_type": "code",
      "metadata": {
        "id": "uXUizaaSBnsl"
      },
      "source": [
        "# календарик на весь год\n",
        "\n",
        "!ncal 2019\n"
      ],
      "execution_count": null,
      "outputs": []
    },
    {
      "cell_type": "code",
      "metadata": {
        "id": "2aciKu7IB5Vm"
      },
      "source": [
        "# передаем 2 аргумента\n",
        "\n",
        "!ncal 03 2019\n"
      ],
      "execution_count": null,
      "outputs": []
    },
    {
      "cell_type": "code",
      "metadata": {
        "id": "4l3d14WtfIAA"
      },
      "source": [
        "# передаем параметр -b\n",
        "\n",
        "!ncal -b 03 2019\n"
      ],
      "execution_count": null,
      "outputs": []
    },
    {
      "cell_type": "code",
      "metadata": {
        "id": "vk9NUxh4fQPy"
      },
      "source": [
        "# Однобуквенные параметры можно склеивать\n",
        "\n",
        "!ncal -b -w 03 2019\n",
        "!ncal -bw 03 2019"
      ],
      "execution_count": null,
      "outputs": []
    },
    {
      "cell_type": "markdown",
      "metadata": {
        "id": "V7jcOwBpgd1U"
      },
      "source": [
        "# Переменные окружения"
      ]
    },
    {
      "cell_type": "markdown",
      "metadata": {
        "id": "gm-YZUlLi0lT"
      },
      "source": [
        "Оболочка в себе содержит так называемые переменные окружения - глобальные константы которые доступны всем программам которые она выполняет. В них удобно хранить например путь к конфигурационным файлам или порт какого нибудь сервиса.\n",
        "\n",
        "Переменные окружения зачастую определяют как ведет себя программа. Например, питон ищет пакеты в переменной `PYTHONPATH`\n",
        "\n",
        "В переменной `PATH` находятся пути в которых Bash ищет исполняемые файлы для других программ\n"
      ]
    },
    {
      "cell_type": "code",
      "metadata": {
        "id": "QRCUr1pTfQLZ"
      },
      "source": [
        "# обьявляем переменную и считываем ее ($ перед именем)\n",
        "!FOO=kindersurprise && echo $FOO"
      ],
      "execution_count": null,
      "outputs": []
    },
    {
      "cell_type": "code",
      "metadata": {
        "id": "ow-40MynjgVV"
      },
      "source": [
        "!echo $PATH\n",
        "!echo $PYTHONPATH"
      ],
      "execution_count": null,
      "outputs": []
    },
    {
      "cell_type": "markdown",
      "metadata": {
        "id": "n9L5dgVwkzhV"
      },
      "source": [
        "Мы можем создать новую папку и заставить питон думать что в ней лежит модуль"
      ]
    },
    {
      "cell_type": "code",
      "metadata": {
        "id": "uA50ME6BktK9"
      },
      "source": [
        "! rm -r fakemodule\n",
        "!mkdir fakemodule\n",
        "!mkdir fakemodule/power\n",
        "! echo \"print('A great power comes with a great responsibility')\" >> fakemodule/power/__init__.py\n",
        "\n",
        "\n"
      ],
      "execution_count": null,
      "outputs": []
    },
    {
      "cell_type": "code",
      "metadata": {
        "id": "QgLMIDMkuRTk"
      },
      "source": [
        "!export a=\"Эта переменная будет доступна другим программам вызванным в той же оболочке\" && echo $a\n",
        "# Но тут уже не получится, для каждой команды Jupyter запускает свою оболочку \n",
        "! echo $a"
      ],
      "execution_count": null,
      "outputs": []
    },
    {
      "cell_type": "code",
      "metadata": {
        "id": "y1v9jifPlRZv"
      },
      "source": [
        "! PYTHONPATH=$PYTHONPATH:$(pwd)/fakemodule && python -c 'import power'"
      ],
      "execution_count": null,
      "outputs": []
    },
    {
      "cell_type": "markdown",
      "metadata": {
        "id": "nU9-VI-ErsHX"
      },
      "source": [
        "конструкция `$(pwd)` подставляет вывод команды `pwd` в выражение. \n",
        "\n",
        "\n",
        "```\n",
        "PYTHONPATH=$PYTHONPATH:$(pwd)/fakemodule\n",
        "\n",
        "```\n",
        "После подстановки переменных мы получим \n",
        "\n",
        "```\n",
        "PYTHONPATH=<то что было в PYTHONPATH>:<текущая директория>/fakemodule\n",
        "\n",
        "```\n",
        "Это добавит нашу fakemodule в переменную окружения и позволит питону найти наш модуль\n",
        "\n"
      ]
    },
    {
      "cell_type": "code",
      "metadata": {
        "id": "62Ue2ovHmnTC"
      },
      "source": [
        ""
      ],
      "execution_count": null,
      "outputs": []
    },
    {
      "cell_type": "code",
      "metadata": {
        "id": "p2lQ4YhLms_j"
      },
      "source": [
        ""
      ],
      "execution_count": null,
      "outputs": []
    },
    {
      "cell_type": "code",
      "metadata": {
        "id": "A4FyM3HZoThB"
      },
      "source": [
        ""
      ],
      "execution_count": null,
      "outputs": []
    }
  ]
}